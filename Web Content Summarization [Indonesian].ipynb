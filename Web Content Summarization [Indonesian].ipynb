{
 "cells": [
  {
   "cell_type": "markdown",
   "metadata": {},
   "source": [
    "source : \n",
    "- https://stackabuse.com/text-summarization-with-nltk-in-python/\n",
    "- https://devtrik.com/python/stopword-removal-bahasa-indonesia-python-sastrawi/\n",
    "\n",
    "Ide => summary adalah kumpulan kalimat yang memiliki \"score\" tertinggi. score dihitung berdasarkan frekuensi kemunculan kata (TF). "
   ]
  },
  {
   "cell_type": "code",
   "execution_count": 1,
   "metadata": {},
   "outputs": [
    {
     "name": "stdout",
     "output_type": "stream",
     "text": [
      "Requirement already satisfied: beautifulsoup4 in ./venv/lib/python3.8/site-packages (4.9.1)\n",
      "Requirement already satisfied: soupsieve>1.2 in ./venv/lib/python3.8/site-packages (from beautifulsoup4) (2.0.1)\n",
      "\u001b[33mWARNING: You are using pip version 20.2.2; however, version 20.2.3 is available.\n",
      "You should consider upgrading via the '/home/syafiq/Documents/belajar/venv/bin/python -m pip install --upgrade pip' command.\u001b[0m\n",
      "Requirement already satisfied: lxml in ./venv/lib/python3.8/site-packages (4.5.2)\n",
      "\u001b[33mWARNING: You are using pip version 20.2.2; however, version 20.2.3 is available.\n",
      "You should consider upgrading via the '/home/syafiq/Documents/belajar/venv/bin/python -m pip install --upgrade pip' command.\u001b[0m\n",
      "Requirement already satisfied: nltk in ./venv/lib/python3.8/site-packages (3.5)\n",
      "Requirement already satisfied: joblib in ./venv/lib/python3.8/site-packages (from nltk) (0.16.0)\n",
      "Requirement already satisfied: regex in ./venv/lib/python3.8/site-packages (from nltk) (2020.7.14)\n",
      "Requirement already satisfied: tqdm in ./venv/lib/python3.8/site-packages (from nltk) (4.49.0)\n",
      "Requirement already satisfied: click in ./venv/lib/python3.8/site-packages (from nltk) (7.1.2)\n",
      "\u001b[33mWARNING: You are using pip version 20.2.2; however, version 20.2.3 is available.\n",
      "You should consider upgrading via the '/home/syafiq/Documents/belajar/venv/bin/python -m pip install --upgrade pip' command.\u001b[0m\n",
      "Requirement already satisfied: sastrawi in ./venv/lib/python3.8/site-packages (1.0.1)\n",
      "\u001b[33mWARNING: You are using pip version 20.2.2; however, version 20.2.3 is available.\n",
      "You should consider upgrading via the '/home/syafiq/Documents/belajar/venv/bin/python -m pip install --upgrade pip' command.\u001b[0m\n"
     ]
    }
   ],
   "source": [
    "!pip install beautifulsoup4 # web scraping \n",
    "!pip install lxml # response parsing \n",
    "!pip install nltk # tokenization \n",
    "!pip install sastrawi # stopword removal "
   ]
  },
  {
   "cell_type": "code",
   "execution_count": 2,
   "metadata": {},
   "outputs": [],
   "source": [
    "import bs4 as bs\n",
    "from urllib.request import Request, urlopen\n",
    "import nltk\n",
    "import re\n",
    "import requests\n",
    "\n",
    "PREVIEW_LIMIT = 1000\n",
    "SUMMARY_SENTENCE_COUNT = 5\n",
    "\n",
    "# [v] https://id.wikipedia.org/wiki/Kura-kura_brazil\n",
    "# [v] https://www.kompas.tv/article/105789/dianggap-ampuh-menggerakkan-roda-ekonomi-kampanye-beli-jualan-teman-digaungkan?utm_source=dlvr.it&utm_medium=twitter\n",
    "# [x] https://tirto.id/perlindungan-kanker-yang-mudah-beneran-f4pm\n",
    "TARGET_URL = 'https://id.wikipedia.org/wiki/Kura-kura_brazil'\n",
    "\n",
    "try:\n",
    "    req = Request(TARGET_URL, headers={'User-Agent': 'Mozilla/5.0'})\n",
    "    scraped_data = urlopen(req, timeout=20)\n",
    "    article = scraped_data.read()\n",
    "except:\n",
    "    print(\"Site can't be scraped\")\n",
    "\n",
    "parsed_article = bs.BeautifulSoup(article,'lxml')\n",
    "paragraphs = parsed_article.find_all('p')\n",
    "article_text = \"\"\n",
    "\n",
    "for p in paragraphs:\n",
    "    article_text += p.text"
   ]
  },
  {
   "cell_type": "code",
   "execution_count": 3,
   "metadata": {},
   "outputs": [
    {
     "data": {
      "text/plain": [
       "\"Kura-kura brazil dikenal juga sebagai kura-kura ''red-ear slider'' atau dalam bahasa latin ''trachemys scripta elegans''. Hal ini disebabkan adanya semburat warna merah tepat di belakang matanya sehingga menyerupai telinga berwarna merah. Kura-kura brazil berasal dari bagian selatan Amerika Serikat, memiliki warna tempurung campuran antara hijau dan kuning. Daya tahan kura-kura brazil yang kuat membuat kura-kura mudah beradaptasi dengan lingkungan manapun.\\nUmur kura-kura dapat mencapai usia 20 tahun dengan panjang maksimal sekitar 30\\xa0cm. Kura-kura Brazil berkembang biak dengan cara bertelur. Jumlahnya bervariasi antara 20 hingga 45 butir tergantung kesuburan dan cuaca. Kura-kura brazil biasanya bertelur sekitar bulan Agustus hingga September menjelang musim hujan. dan untuk menetas dibutuhkan waktu sekitar 3 minggu. Setelah menetas kura-kura brazil akan segera mencari perairan untuk tumbuh dewasa.\\nKura-Kura Brazil berwarna hijau tua dengan garis-garis kuning dan memiliki bercak merah p\""
      ]
     },
     "execution_count": 3,
     "metadata": {},
     "output_type": "execute_result"
    }
   ],
   "source": [
    "article_text[:PREVIEW_LIMIT]"
   ]
  },
  {
   "cell_type": "code",
   "execution_count": 4,
   "metadata": {},
   "outputs": [],
   "source": [
    "# Removing Square Brackets and Extra Spaces\n",
    "article_text = re.sub(r'\\[[0-9]*\\]', ' ', article_text)\n",
    "article_text = re.sub(r'\\s+', ' ', article_text)\n",
    "article_text = article_text.lower()"
   ]
  },
  {
   "cell_type": "code",
   "execution_count": 5,
   "metadata": {},
   "outputs": [
    {
     "data": {
      "text/plain": [
       "\"kura-kura brazil dikenal sebagai kura-kura ''red-ear slider'' bahasa latin ''trachemys scripta elegans''. disebabkan adanya semburat warna merah tepat belakang matanya menyerupai telinga berwarna merah. kura-kura brazil berasal bagian selatan amerika serikat, memiliki warna tempurung campuran hijau kuning. daya tahan kura-kura brazil kuat membuat kura-kura mudah beradaptasi lingkungan manapun. umur kura-kura mencapai usia 20 tahun panjang maksimal 30 cm. kura-kura brazil berkembang biak cara bertelur. jumlahnya bervariasi 20 hingga 45 butir tergantung kesuburan cuaca. kura-kura brazil biasanya bertelur bulan agustus hingga september menjelang musim hujan. menetas dibutuhkan waktu 3 minggu. menetas kura-kura brazil segera mencari perairan tumbuh dewasa. kura-kura brazil berwarna hijau tua garis-garis kuning memiliki bercak merah sisi kepalanya. kura-kura mudah dibedakan rahang bawahnya lebih bulat dibanding jenis pseudemys lebih kotak. jari-jari kaki belakangnya dihubungkan selaput bebe\""
      ]
     },
     "execution_count": 5,
     "metadata": {},
     "output_type": "execute_result"
    }
   ],
   "source": [
    "# Removing Indonesian stopword \n",
    "from Sastrawi.StopWordRemover.StopWordRemoverFactory import StopWordRemoverFactory\n",
    " \n",
    "factory = StopWordRemoverFactory()\n",
    "stopword_remover = factory.create_stop_word_remover()\n",
    "article_text_without_stopword = stopword_remover.remove(article_text)\n",
    "article_text_without_stopword[:PREVIEW_LIMIT]"
   ]
  },
  {
   "cell_type": "code",
   "execution_count": 6,
   "metadata": {
    "scrolled": false
   },
   "outputs": [
    {
     "data": {
      "text/plain": [
       "'kura kura brazil dikenal sebagai kura kura red ear slider bahasa latin trachemys scripta elegans disebabkan adanya semburat warna merah tepat belakang matanya menyerupai telinga berwarna merah kura kura brazil berasal bagian selatan amerika serikat memiliki warna tempurung campuran hijau kuning daya tahan kura kura brazil kuat membuat kura kura mudah beradaptasi lingkungan manapun umur kura kura mencapai usia tahun panjang maksimal cm kura kura brazil berkembang biak cara bertelur jumlahnya bervariasi hingga butir tergantung kesuburan cuaca kura kura brazil biasanya bertelur bulan agustus hingga september menjelang musim hujan menetas dibutuhkan waktu minggu menetas kura kura brazil segera mencari perairan tumbuh dewasa kura kura brazil berwarna hijau tua garis garis kuning memiliki bercak merah sisi kepalanya kura kura mudah dibedakan rahang bawahnya lebih bulat dibanding jenis pseudemys lebih kotak jari jari kaki belakangnya dihubungkan selaput bebek hewan air membedakan jenis kelami'"
      ]
     },
     "execution_count": 6,
     "metadata": {},
     "output_type": "execute_result"
    }
   ],
   "source": [
    "# Removing special characters and digits\n",
    "formatted_article_text = re.sub('[^a-zA-Z]', ' ', article_text_without_stopword )\n",
    "formatted_article_text = re.sub(r'\\s+', ' ', formatted_article_text)\n",
    "# lowercasing everything \n",
    "formatted_article_text = formatted_article_text.lower()\n",
    "formatted_article_text[:PREVIEW_LIMIT]"
   ]
  },
  {
   "cell_type": "code",
   "execution_count": 7,
   "metadata": {},
   "outputs": [
    {
     "name": "stdout",
     "output_type": "stream",
     "text": [
      "58\n"
     ]
    },
    {
     "data": {
      "text/plain": [
       "[\"kura-kura brazil dikenal juga sebagai kura-kura ''red-ear slider'' atau dalam bahasa latin ''trachemys scripta elegans''\",\n",
       " ' hal ini disebabkan adanya semburat warna merah tepat di belakang matanya sehingga menyerupai telinga berwarna merah',\n",
       " ' kura-kura brazil berasal dari bagian selatan amerika serikat, memiliki warna tempurung campuran antara hijau dan kuning',\n",
       " ' daya tahan kura-kura brazil yang kuat membuat kura-kura mudah beradaptasi dengan lingkungan manapun',\n",
       " ' umur kura-kura dapat mencapai usia 20 tahun dengan panjang maksimal sekitar 30 cm']"
      ]
     },
     "execution_count": 7,
     "metadata": {},
     "output_type": "execute_result"
    }
   ],
   "source": [
    "# sentence_list = nltk.sent_tokenize(article_text) # not really optimal for \n",
    "sentence_list = article_text.split(\".\") # asumsi : kalimat dipisankan oleh titik yang dilanjutkan oleh spasi '. '\n",
    "print(len(sentence_list))\n",
    "sentence_list[:5]"
   ]
  },
  {
   "cell_type": "code",
   "execution_count": 8,
   "metadata": {},
   "outputs": [],
   "source": [
    "# getting weighted frequencies \n",
    "word_frequencies = {}\n",
    "for word in nltk.word_tokenize(formatted_article_text):\n",
    "    if word not in word_frequencies.keys():\n",
    "        word_frequencies[word] = 1\n",
    "    else:\n",
    "        word_frequencies[word] += 1\n",
    "            \n",
    "maximum_frequncy = max(word_frequencies.values())\n",
    "\n",
    "for word in word_frequencies.keys():\n",
    "    word_frequencies[word] = (word_frequencies[word]/maximum_frequncy)"
   ]
  },
  {
   "cell_type": "code",
   "execution_count": 9,
   "metadata": {},
   "outputs": [],
   "source": [
    "# calculating sentence scores \n",
    "sentence_scores = {}\n",
    "for sent in sentence_list:\n",
    "    for word in nltk.word_tokenize(sent):\n",
    "        if word in word_frequencies.keys():\n",
    "            if sent not in sentence_scores.keys():\n",
    "                sentence_scores[sent] = word_frequencies[word]\n",
    "            else:\n",
    "                sentence_scores[sent] += word_frequencies[word]"
   ]
  },
  {
   "cell_type": "code",
   "execution_count": 10,
   "metadata": {},
   "outputs": [
    {
     "name": "stdout",
     "output_type": "stream",
     "text": [
      "Kura-kura brazil adalah hewan air dan mereka membuang kotoran mereka ke dalam air, sehingga jika kita tidak menjaga kebersihan aquarium atau kolam maka akan menjadi sarang untuk kuman dan bakteri, untuk itu aquarium dan kolam harus selalu dalam keadaan bersih karena kesehatan kura-kura tergantung dari kebersihan aquarium atau kolam.\n",
      "\n",
      "Berikut ini, merupakan beberapa variasi makanan kura-kura brazil, antara lain: kura-kura brazil suka mengonsumsi semua jenis sayuran hijau seperti lettuce, sayuran putih seperti sawi dan juga wortel, serta sayuran yang mengandung banyak kalsium yang sangat baik untuk perkembangan tempurungnya.\n",
      "\n",
      "Karena kura-kura brazil hidup di habitat bebas, maka kura-kura juga menyukai beberapa jenis serangga seperti jangkrik yang merupakan makanan yang sangat baik untuk kura-kura, dan juga cacing.\n",
      "\n",
      "Kura-kura sangat menyukai daging mentah, namun daging mentah tidak baik diberikan untuk kura-kura karena mengandung banyak lemak dan dapat menyebabkan kegemukan dan daging mentah tidak menyediakan nutrisi yang dibutuhkan kura-kura.\n",
      "\n",
      "Terkadang masalahnya kura-kura mengharapkan makanan yang sedang diingininya namun tidak diberikan, dan dia akan menolak makan sampai makanan yang diinginkannya diberikan.\n",
      "\n"
     ]
    }
   ],
   "source": [
    "# mengurutkan kalimat berdasarkan score, ascending \n",
    "sorted_scores = sorted(sentence_scores, key=sentence_scores.get)\n",
    "# reversing the order \n",
    "sorted_scores.reverse()\n",
    "# mendapatkan n kalimat dengan score tertinggi \n",
    "sorted_scores = sorted_scores[:SUMMARY_SENTENCE_COUNT]\n",
    "# summary dibentuk sesuai urutan kalimat pada text input \n",
    "for sent in sentence_list:\n",
    "    if sent in sorted_scores:\n",
    "        print(f\"{sent.strip().capitalize()}.\\n\")"
   ]
  },
  {
   "cell_type": "code",
   "execution_count": null,
   "metadata": {},
   "outputs": [],
   "source": []
  }
 ],
 "metadata": {
  "kernelspec": {
   "display_name": "Python 3",
   "language": "python",
   "name": "python3"
  },
  "language_info": {
   "codemirror_mode": {
    "name": "ipython",
    "version": 3
   },
   "file_extension": ".py",
   "mimetype": "text/x-python",
   "name": "python",
   "nbconvert_exporter": "python",
   "pygments_lexer": "ipython3",
   "version": "3.8.2"
  }
 },
 "nbformat": 4,
 "nbformat_minor": 4
}
